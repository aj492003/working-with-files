{
 "cells": [
  {
   "cell_type": "code",
   "execution_count": 1,
   "id": "6e8a6919-784b-4655-a644-1bea253b6d6b",
   "metadata": {},
   "outputs": [],
   "source": [
    "f = open(\"test.txt\",'w')"
   ]
  },
  {
   "cell_type": "code",
   "execution_count": 2,
   "id": "185a1249-d7b3-497a-b610-9bf3ffceed28",
   "metadata": {},
   "outputs": [
    {
     "data": {
      "text/plain": [
       "'/home/jovyan/work'"
      ]
     },
     "execution_count": 2,
     "metadata": {},
     "output_type": "execute_result"
    }
   ],
   "source": [
    "pwd"
   ]
  },
  {
   "cell_type": "code",
   "execution_count": 3,
   "id": "e8357c6c-59d1-4208-8ed8-8eb29777d4a2",
   "metadata": {},
   "outputs": [
    {
     "name": "stdout",
     "output_type": "stream",
     "text": [
      "'abstract class.ipynb'               polymorphism.ipynb\n",
      "'class methods.ipynb'               'property decorators.ipynb'\n",
      " comprehension.ipynb                'python basic.ipynb'\n",
      " decorator.ipynb                     README.md\n",
      "'dict conditional loop.ipynb'        sample-code.ipynb\n",
      " encapsulation.ipynb                'special (magic or dunder) method.ipynb'\n",
      "'for loop.ipynb'                    'static method.ipynb'\n",
      "'function part 1.ipynb'              test.txt\n",
      "'generator function.ipynb'           Untitled1.ipynb\n",
      " inheritance.ipynb                   Untitled2.ipynb\n",
      "'lambda function.ipynb'              Untitled3.ipynb\n",
      "'list tuple set.ipynb'               Untitled.ipynb\n",
      "'map,reduce,filter function.ipynb'  'while loop.ipynb'\n",
      "'oops part 1.ipynb'                 'working with file .ipynb'\n"
     ]
    }
   ],
   "source": [
    "ls"
   ]
  },
  {
   "cell_type": "code",
   "execution_count": 4,
   "id": "b2c57874-04e7-4cfc-9dbd-085a0721aa05",
   "metadata": {},
   "outputs": [
    {
     "name": "stdout",
     "output_type": "stream",
     "text": [
      "[Errno 2] No such file or directory: 'work'\n",
      "/home/jovyan/work\n"
     ]
    }
   ],
   "source": [
    "cd work"
   ]
  },
  {
   "cell_type": "code",
   "execution_count": 5,
   "id": "9b114502-5e1e-44f7-aeee-8f418a68f803",
   "metadata": {},
   "outputs": [
    {
     "name": "stdout",
     "output_type": "stream",
     "text": [
      "'abstract class.ipynb'               polymorphism.ipynb\n",
      "'class methods.ipynb'               'property decorators.ipynb'\n",
      " comprehension.ipynb                'python basic.ipynb'\n",
      " decorator.ipynb                     README.md\n",
      "'dict conditional loop.ipynb'        sample-code.ipynb\n",
      " encapsulation.ipynb                'special (magic or dunder) method.ipynb'\n",
      "'for loop.ipynb'                    'static method.ipynb'\n",
      "'function part 1.ipynb'              test.txt\n",
      "'generator function.ipynb'           Untitled1.ipynb\n",
      " inheritance.ipynb                   Untitled2.ipynb\n",
      "'lambda function.ipynb'              Untitled3.ipynb\n",
      "'list tuple set.ipynb'               Untitled.ipynb\n",
      "'map,reduce,filter function.ipynb'  'while loop.ipynb'\n",
      "'oops part 1.ipynb'                 'working with file .ipynb'\n"
     ]
    }
   ],
   "source": [
    "ls"
   ]
  },
  {
   "cell_type": "code",
   "execution_count": 6,
   "id": "7dd970c2-e5b7-44b0-bc8f-c949a519f241",
   "metadata": {},
   "outputs": [
    {
     "data": {
      "text/plain": [
       "30"
      ]
     },
     "execution_count": 6,
     "metadata": {},
     "output_type": "execute_result"
    }
   ],
   "source": [
    "f.write(\"this is my first file to write\")"
   ]
  },
  {
   "cell_type": "code",
   "execution_count": 7,
   "id": "6c44bf43-255e-40e7-9e7e-39bd34312488",
   "metadata": {},
   "outputs": [],
   "source": [
    "f.close()"
   ]
  },
  {
   "cell_type": "code",
   "execution_count": 8,
   "id": "0724acc3-662d-4ce2-bc00-4ad1320b395d",
   "metadata": {},
   "outputs": [],
   "source": [
    "f = open(\"test.txt\",'w')"
   ]
  },
  {
   "cell_type": "code",
   "execution_count": 9,
   "id": "dc2df6b1-a81a-483b-81cd-29eecb712c14",
   "metadata": {},
   "outputs": [
    {
     "data": {
      "text/plain": [
       "15"
      ]
     },
     "execution_count": 9,
     "metadata": {},
     "output_type": "execute_result"
    }
   ],
   "source": [
    "f.write(\"this is my file\")"
   ]
  },
  {
   "cell_type": "code",
   "execution_count": 10,
   "id": "1aa53e94-4748-48cb-b5b6-f47a6d41aa46",
   "metadata": {},
   "outputs": [],
   "source": [
    "f.close()"
   ]
  },
  {
   "cell_type": "code",
   "execution_count": 11,
   "id": "b6c35c6e-f744-4b76-9c45-17c70f3416f7",
   "metadata": {},
   "outputs": [],
   "source": [
    "# now we use the mode'a' - open for writing , appending to the end of the file if it exists"
   ]
  },
  {
   "cell_type": "code",
   "execution_count": 12,
   "id": "6caa646d-7010-4fd4-85f4-6164995f4c58",
   "metadata": {},
   "outputs": [],
   "source": [
    "f = open(\"test.txt\",'a')"
   ]
  },
  {
   "cell_type": "code",
   "execution_count": 13,
   "id": "d8a9ad2c-41ab-40de-b2ae-5c1815c943ef",
   "metadata": {},
   "outputs": [
    {
     "data": {
      "text/plain": [
       "131"
      ]
     },
     "execution_count": 13,
     "metadata": {},
     "output_type": "execute_result"
    }
   ],
   "source": [
    "f.write(\"PW Skills Lab is a magic land where you charge your wand full of the craziest ideas and witness successful projects coming to life.\")"
   ]
  },
  {
   "cell_type": "code",
   "execution_count": 14,
   "id": "e03f1fb4-bb4d-4f8b-8ae7-4673459f6623",
   "metadata": {},
   "outputs": [],
   "source": [
    "f.close()"
   ]
  },
  {
   "cell_type": "code",
   "execution_count": 17,
   "id": "3fc871a0-82a7-4eab-bd07-b24b1d21a028",
   "metadata": {},
   "outputs": [],
   "source": [
    "f = open(\"test.txt\",'r')"
   ]
  },
  {
   "cell_type": "code",
   "execution_count": 18,
   "id": "a50294a7-5057-4b46-9e49-16ff631c87ca",
   "metadata": {},
   "outputs": [
    {
     "data": {
      "text/plain": [
       "'this is my filePW Skills Lab is a magic land where you charge your wand full of the craziest ideas and witness successful projects coming to life.'"
      ]
     },
     "execution_count": 18,
     "metadata": {},
     "output_type": "execute_result"
    }
   ],
   "source": [
    "f.read()"
   ]
  },
  {
   "cell_type": "code",
   "execution_count": 19,
   "id": "8bec578f-98f6-4d6f-9092-13d8b76910b7",
   "metadata": {},
   "outputs": [],
   "source": [
    "data = open(\"test.txt\",'r')"
   ]
  },
  {
   "cell_type": "code",
   "execution_count": 20,
   "id": "0b26d339-27f4-4970-a129-61f36d422241",
   "metadata": {},
   "outputs": [
    {
     "data": {
      "text/plain": [
       "<_io.TextIOWrapper name='test.txt' mode='r' encoding='UTF-8'>"
      ]
     },
     "execution_count": 20,
     "metadata": {},
     "output_type": "execute_result"
    }
   ],
   "source": [
    "data"
   ]
  },
  {
   "cell_type": "code",
   "execution_count": 21,
   "id": "a9d9f6c3-b36b-4544-bef4-c1cdad9bb32f",
   "metadata": {},
   "outputs": [
    {
     "data": {
      "text/plain": [
       "'this is my filePW Skills Lab is a magic land where you charge your wand full of the craziest ideas and witness successful projects coming to life.'"
      ]
     },
     "execution_count": 21,
     "metadata": {},
     "output_type": "execute_result"
    }
   ],
   "source": [
    "data.read()"
   ]
  },
  {
   "cell_type": "code",
   "execution_count": 22,
   "id": "3644fde4-b366-41b3-a691-1616b25f28a0",
   "metadata": {},
   "outputs": [],
   "source": [
    "# to read the data line by line"
   ]
  },
  {
   "cell_type": "code",
   "execution_count": 23,
   "id": "5eb399d0-38ee-4857-8688-cf224c01f9e2",
   "metadata": {},
   "outputs": [
    {
     "data": {
      "text/plain": [
       "''"
      ]
     },
     "execution_count": 23,
     "metadata": {},
     "output_type": "execute_result"
    }
   ],
   "source": [
    "data.readline()"
   ]
  },
  {
   "cell_type": "code",
   "execution_count": 24,
   "id": "fcddf662-54fd-447c-9804-5945d6041fdd",
   "metadata": {},
   "outputs": [
    {
     "data": {
      "text/plain": [
       "0"
      ]
     },
     "execution_count": 24,
     "metadata": {},
     "output_type": "execute_result"
    }
   ],
   "source": [
    "data.seek(0)"
   ]
  },
  {
   "cell_type": "code",
   "execution_count": 25,
   "id": "fc890de2-1e99-4c08-a471-aee0f72855ca",
   "metadata": {},
   "outputs": [
    {
     "data": {
      "text/plain": [
       "'this is my filePW Skills Lab is a magic land where you charge your wand full of the craziest ideas and witness successful projects coming to life.'"
      ]
     },
     "execution_count": 25,
     "metadata": {},
     "output_type": "execute_result"
    }
   ],
   "source": [
    "data.readline()"
   ]
  },
  {
   "cell_type": "code",
   "execution_count": 26,
   "id": "3d017a4a-f9bf-4054-97b9-87f79238227d",
   "metadata": {},
   "outputs": [
    {
     "data": {
      "text/plain": [
       "''"
      ]
     },
     "execution_count": 26,
     "metadata": {},
     "output_type": "execute_result"
    }
   ],
   "source": [
    "data.readline()"
   ]
  },
  {
   "cell_type": "code",
   "execution_count": 27,
   "id": "5fc76ceb-870a-4711-893d-5d06a9f3d5a8",
   "metadata": {},
   "outputs": [
    {
     "data": {
      "text/plain": [
       "10"
      ]
     },
     "execution_count": 27,
     "metadata": {},
     "output_type": "execute_result"
    }
   ],
   "source": [
    "data.seek(10)"
   ]
  },
  {
   "cell_type": "code",
   "execution_count": 28,
   "id": "09931280-84d2-4dbb-9889-e6ba51ef30f7",
   "metadata": {},
   "outputs": [
    {
     "data": {
      "text/plain": [
       "' filePW Skills Lab is a magic land where you charge your wand full of the craziest ideas and witness successful projects coming to life.'"
      ]
     },
     "execution_count": 28,
     "metadata": {},
     "output_type": "execute_result"
    }
   ],
   "source": [
    "data.readline()"
   ]
  },
  {
   "cell_type": "code",
   "execution_count": 31,
   "id": "c1dfee7e-b741-4bf3-8840-53e92cf9ee90",
   "metadata": {},
   "outputs": [
    {
     "data": {
      "text/plain": [
       "15"
      ]
     },
     "execution_count": 31,
     "metadata": {},
     "output_type": "execute_result"
    }
   ],
   "source": [
    "data.seek(15)"
   ]
  },
  {
   "cell_type": "code",
   "execution_count": 32,
   "id": "4597df22-d6e8-4a69-89ee-cca685afb91b",
   "metadata": {},
   "outputs": [
    {
     "data": {
      "text/plain": [
       "'PW Skills Lab is a magic land where you charge your wand full of the craziest ideas and witness successful projects coming to life.'"
      ]
     },
     "execution_count": 32,
     "metadata": {},
     "output_type": "execute_result"
    }
   ],
   "source": [
    "data.readline()"
   ]
  },
  {
   "cell_type": "code",
   "execution_count": 33,
   "id": "75555bb0-f660-4c4a-841d-bfdb8d501a01",
   "metadata": {},
   "outputs": [],
   "source": [
    "data1 = open(\"test.txt\",'r')"
   ]
  },
  {
   "cell_type": "code",
   "execution_count": 34,
   "id": "aa392578-0cbe-4be5-9300-b415bd4f3f0a",
   "metadata": {},
   "outputs": [
    {
     "name": "stdout",
     "output_type": "stream",
     "text": [
      "this is my filePW Skills Lab is a magic land where you charge your wand full of the craziest ideas and witness successful projects coming to life.\n"
     ]
    }
   ],
   "source": [
    "for i in data1:\n",
    "    print(i)"
   ]
  },
  {
   "cell_type": "code",
   "execution_count": 35,
   "id": "7b39c9be-e1f9-47e8-963c-e80b3c6b2731",
   "metadata": {},
   "outputs": [],
   "source": [
    "import os"
   ]
  },
  {
   "cell_type": "code",
   "execution_count": 36,
   "id": "ff0b38db-05cf-46ff-a48c-8af64d891055",
   "metadata": {},
   "outputs": [
    {
     "data": {
      "text/plain": [
       "146"
      ]
     },
     "execution_count": 36,
     "metadata": {},
     "output_type": "execute_result"
    }
   ],
   "source": [
    "os.path.getsize(\"test.txt\")"
   ]
  },
  {
   "cell_type": "code",
   "execution_count": null,
   "id": "e24b608f-c38c-46a4-9fdc-35d3b400c297",
   "metadata": {},
   "outputs": [],
   "source": [
    "os.remove(\"test.txt\")  # to remove the file"
   ]
  },
  {
   "cell_type": "code",
   "execution_count": 37,
   "id": "347854f6-6021-4f92-9847-33ce82268881",
   "metadata": {},
   "outputs": [],
   "source": [
    "# to rename the file we use"
   ]
  },
  {
   "cell_type": "code",
   "execution_count": 38,
   "id": "84d27fa5-8660-405f-b79b-d13069e8214a",
   "metadata": {},
   "outputs": [],
   "source": [
    "os.rename(\"test.txt\",\"new.txt\")"
   ]
  },
  {
   "cell_type": "code",
   "execution_count": 39,
   "id": "dbb05890-810e-4e15-a160-b24985b43d83",
   "metadata": {},
   "outputs": [],
   "source": [
    "# to create multipe copies of your file"
   ]
  },
  {
   "cell_type": "code",
   "execution_count": 40,
   "id": "c02fdcd2-719e-45e1-b0e0-6b667968289b",
   "metadata": {},
   "outputs": [],
   "source": [
    "import shutil"
   ]
  },
  {
   "cell_type": "code",
   "execution_count": 41,
   "id": "2711bfca-db70-40c6-ade6-9257f58d83bf",
   "metadata": {},
   "outputs": [
    {
     "data": {
      "text/plain": [
       "'copy_new.txt'"
      ]
     },
     "execution_count": 41,
     "metadata": {},
     "output_type": "execute_result"
    }
   ],
   "source": [
    "shutil.copy(\"new.txt\",\"copy_new.txt\")"
   ]
  },
  {
   "cell_type": "code",
   "execution_count": 43,
   "id": "89ab9371-eea0-4bda-bd3d-1a56360a9361",
   "metadata": {},
   "outputs": [
    {
     "name": "stdout",
     "output_type": "stream",
     "text": [
      "this is my filePW Skills Lab is a magic land where you charge your wand full of the craziest ideas and witness successful projects coming to life.\n"
     ]
    }
   ],
   "source": [
    "with open(\"new.txt\",\"r\") as f:\n",
    "    print (f.read())"
   ]
  },
  {
   "cell_type": "code",
   "execution_count": null,
   "id": "df7963bd-3e9e-461b-ad48-5aeced7e76b8",
   "metadata": {},
   "outputs": [],
   "source": []
  }
 ],
 "metadata": {
  "kernelspec": {
   "display_name": "Python 3 (ipykernel)",
   "language": "python",
   "name": "python3"
  },
  "language_info": {
   "codemirror_mode": {
    "name": "ipython",
    "version": 3
   },
   "file_extension": ".py",
   "mimetype": "text/x-python",
   "name": "python",
   "nbconvert_exporter": "python",
   "pygments_lexer": "ipython3",
   "version": "3.10.8"
  }
 },
 "nbformat": 4,
 "nbformat_minor": 5
}
